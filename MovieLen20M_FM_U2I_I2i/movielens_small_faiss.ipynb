{
 "cells": [
  {
   "cell_type": "markdown",
   "metadata": {},
   "source": [
    "# MovieLens_small_Faiss"
   ]
  },
  {
   "cell_type": "code",
   "execution_count": 16,
   "metadata": {},
   "outputs": [],
   "source": [
    "import faiss\n",
    "import numpy\n",
    "from scipy.sparse import coo_matrix\n",
    "from sklearn.decomposition import NMF"
   ]
  },
  {
   "cell_type": "code",
   "execution_count": 17,
   "metadata": {},
   "outputs": [],
   "source": [
    "RANDOM_STATE = 0\n",
    "N_FACTOR = 20\n",
    "N_RESULT = 10"
   ]
  },
  {
   "cell_type": "markdown",
   "metadata": {},
   "source": [
    "## Load Dataset"
   ]
  },
  {
   "cell_type": "code",
   "execution_count": 18,
   "metadata": {},
   "outputs": [],
   "source": [
    "ratings = numpy.loadtxt(\n",
    "    'data/ratings.csv',\n",
    "    delimiter=',',\n",
    "    skiprows=1,\n",
    "    usecols=(0, 1, 2),\n",
    "    dtype=[('userId', 'i8'), ('movieId', 'i8'), ('rating', 'f8')],\n",
    ")"
   ]
  },
  {
   "cell_type": "markdown",
   "metadata": {},
   "source": [
    "## Get Rate data, User and Movie data sorted"
   ]
  },
  {
   "cell_type": "markdown",
   "metadata": {},
   "source": [
    "- user data list, `len(user)` is `671`\n",
    "- movie data list, `len(movies)` is `9066`\n",
    "- rate data list, `len(data)` is `9066`"
   ]
  },
  {
   "cell_type": "code",
   "execution_count": 19,
   "metadata": {},
   "outputs": [],
   "source": [
    "data = ratings['rating']\n",
    "users = sorted(numpy.unique(ratings['userId']))\n",
    "movies = sorted(numpy.unique(ratings['movieId']))"
   ]
  },
  {
   "cell_type": "markdown",
   "metadata": {},
   "source": [
    "## Mapper between id and index"
   ]
  },
  {
   "cell_type": "code",
   "execution_count": 20,
   "metadata": {},
   "outputs": [],
   "source": [
    "user_id2i = {id: i for i, id in enumerate(users)}\n",
    "movie_id2i = {id: i for i, id in enumerate(movies)}\n",
    "movie_i2id = {i: id for i, id in enumerate(movies)}"
   ]
  },
  {
   "cell_type": "markdown",
   "metadata": {},
   "source": [
    "## Make Sparse Matrix"
   ]
  },
  {
   "cell_type": "code",
   "execution_count": 21,
   "metadata": {},
   "outputs": [],
   "source": [
    "# matrix row and col\n",
    "# every value in ratings['userId'] invoke user_id2i.get\n",
    "row = list(map(user_id2i.get, ratings['userId']))\n",
    "col = list(map(movie_id2i.get, ratings['movieId']))\n",
    "\n",
    "rating_matrix = coo_matrix((data, (row, col)))"
   ]
  },
  {
   "cell_type": "markdown",
   "metadata": {},
   "source": [
    "(row index, col index) value is 9066\n",
    "```text\n",
    "(0, 30) 2.5\n",
    "(0, 833) 3.0\n",
    "(0, 859) 3.0\n",
    "(0, 906) 2.0\n",
    "(0, 931) 4.0\n",
    "(0, 1017) 2.0\n",
    "...\n",
    "```"
   ]
  },
  {
   "cell_type": "markdown",
   "metadata": {},
   "source": [
    "## NMF(non-negative matrix factorization)"
   ]
  },
  {
   "cell_type": "markdown",
   "metadata": {},
   "source": [
    "- nmf, `671*9066` -> `671*20` `9066*20`"
   ]
  },
  {
   "cell_type": "code",
   "execution_count": 22,
   "metadata": {},
   "outputs": [],
   "source": [
    "# non-negative matrix factorization \n",
    "model = NMF(n_components=N_FACTOR, init='random', random_state=RANDOM_STATE)\n",
    "# user matrix \n",
    "user_mat = model.fit_transform(rating_matrix)\n",
    "# movie matrix\n",
    "movie_mat = model.components_.T"
   ]
  },
  {
   "cell_type": "markdown",
   "metadata": {},
   "source": [
    "- user matrix, size is `671*20`\n",
    "```text\n",
    "[[0.         0.0130852  0.04233652 0.         0.         0.01109127\n",
    " 0.         0.         0.01037393 0.         0.         0.\n",
    " 0.         0.         0.         0.         0.         0.02176325\n",
    " 0.00400426 0.00541233],\n",
    "...]\n",
    "```\n",
    "- movie matrix, size is `9066*20`\n",
    "```text\n",
    "[[0.38492652 0.18337294 0.33235427 0.61019606 4.26116671 0.13564159\n",
    " 0.66864197 0.52531631 1.52488087 1.78896432 2.81218938 0.\n",
    " 0.4555726  2.58509433 6.99776941 7.65670979 0.65582881 0.45931085\n",
    " 0.46275145 0.08448926]\n",
    "...]\n",
    "```"
   ]
  },
  {
   "cell_type": "markdown",
   "metadata": {},
   "source": [
    "## Faiss Train"
   ]
  },
  {
   "cell_type": "markdown",
   "metadata": {},
   "source": [
    "- IndexFlatIP, Exact Search for Inner Product\n",
    "- dim is 20\n",
    "- movie matrix convert to float32"
   ]
  },
  {
   "cell_type": "code",
   "execution_count": 23,
   "metadata": {},
   "outputs": [],
   "source": [
    "movie_index = faiss.IndexFlatIP(N_FACTOR)\n",
    "movie_index.add(movie_mat.astype('float32'))"
   ]
  },
  {
   "cell_type": "markdown",
   "metadata": {},
   "source": [
    "## Search movies liked by User Id"
   ]
  },
  {
   "cell_type": "code",
   "execution_count": 24,
   "metadata": {},
   "outputs": [],
   "source": [
    "def search_by_userid(user_id):\n",
    "    # user index\n",
    "    user_i = user_id2i[user_id]\n",
    "    # \n",
    "    user_vec = user_mat[user_i].astype('float32')\n",
    "    # \n",
    "    scores, indices = movie_index.search(numpy.array([user_vec]), N_RESULT)\n",
    "    # \n",
    "    movie_scores = zip(indices[0], scores[0])\n",
    "    return [\n",
    "        {\n",
    "            \"movieid\": int(movie_i2id[i]),\n",
    "            \"score\": float(s),\n",
    "        }\n",
    "        for i, s in movie_scores\n",
    "    ]"
   ]
  },
  {
   "cell_type": "markdown",
   "metadata": {},
   "source": [
    "## Return 10 result"
   ]
  },
  {
   "cell_type": "code",
   "execution_count": 25,
   "metadata": {},
   "outputs": [
    {
     "data": {
      "text/plain": [
       "[{'movieid': 1196, 'score': 0.16856670379638672},\n",
       " {'movieid': 1198, 'score': 0.1558140367269516},\n",
       " {'movieid': 1214, 'score': 0.15575842559337616},\n",
       " {'movieid': 1240, 'score': 0.14368504285812378},\n",
       " {'movieid': 260, 'score': 0.141145259141922},\n",
       " {'movieid': 1270, 'score': 0.14029668271541595},\n",
       " {'movieid': 541, 'score': 0.1385204941034317},\n",
       " {'movieid': 1210, 'score': 0.1376139372587204},\n",
       " {'movieid': 1200, 'score': 0.1360698789358139},\n",
       " {'movieid': 1387, 'score': 0.13099956512451172}]"
      ]
     },
     "execution_count": 25,
     "metadata": {},
     "output_type": "execute_result"
    }
   ],
   "source": [
    "search_by_userid(1)"
   ]
  },
  {
   "cell_type": "code",
   "execution_count": null,
   "metadata": {},
   "outputs": [],
   "source": []
  },
  {
   "cell_type": "code",
   "execution_count": null,
   "metadata": {},
   "outputs": [],
   "source": []
  }
 ],
 "metadata": {
  "kernelspec": {
   "display_name": "Python 3",
   "language": "python",
   "name": "python3"
  },
  "language_info": {
   "codemirror_mode": {
    "name": "ipython",
    "version": 3
   },
   "file_extension": ".py",
   "mimetype": "text/x-python",
   "name": "python",
   "nbconvert_exporter": "python",
   "pygments_lexer": "ipython3",
   "version": "3.7.5"
  }
 },
 "nbformat": 4,
 "nbformat_minor": 2
}

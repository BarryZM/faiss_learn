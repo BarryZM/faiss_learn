{
 "cells": [
  {
   "cell_type": "markdown",
   "metadata": {},
   "source": [
<<<<<<< HEAD
    "# index进阶操作\n",
=======
    "#index进阶操作\n",
>>>>>>> 926a25b555fd996e7e0325154cf62662cf71088d
    "下面介绍的方法只支持部分Index类型。"
   ]
  },
  {
   "cell_type": "markdown",
   "metadata": {},
   "source": [
<<<<<<< HEAD
    "## 从index中恢复出原始数据\n",
=======
    "##从index中恢复出原始数据\n",
>>>>>>> 926a25b555fd996e7e0325154cf62662cf71088d
    "给定id，可以使用reconstruct或者reconstruct_n方法从index中回复出原始向量。  \n",
    "支持IndexFlat, IndexIVFFlat (需要与make_direct_map结合), IndexIVFPQ, IndexPreTransform这几类索引类型。"
   ]
  },
  {
   "cell_type": "code",
<<<<<<< HEAD
   "execution_count": 3,
   "metadata": {},
   "outputs": [
    {
     "name": "stdout",
     "output_type": "stream",
     "text": [
      "(500, 16)\n"
     ]
    }
   ],
=======
   "execution_count": 6,
   "metadata": {},
   "outputs": [],
>>>>>>> 926a25b555fd996e7e0325154cf62662cf71088d
   "source": [
    "# 导入faiss\n",
    "import sys\n",
    "import numpy as np \n",
<<<<<<< HEAD
    "# sys.path.append('/home/maliqi/faiss/python/')\n",
=======
    "sys.path.append('/home/maliqi/faiss/python/')\n",
>>>>>>> 926a25b555fd996e7e0325154cf62662cf71088d
    "import faiss\n",
    "\n",
    "#生成数据\n",
    "d = 16\n",
    "n_data = 500\n",
<<<<<<< HEAD
    "data = np.random.rand(n_data, d).astype('float32')\n",
    "print(data.shape)\n",
    "# print(data)"
=======
    "data = np.random.rand(n_data, d).astype('float32')"
>>>>>>> 926a25b555fd996e7e0325154cf62662cf71088d
   ]
  },
  {
   "cell_type": "code",
<<<<<<< HEAD
   "execution_count": 4,
=======
   "execution_count": 9,
>>>>>>> 926a25b555fd996e7e0325154cf62662cf71088d
   "metadata": {},
   "outputs": [
    {
     "name": "stdout",
     "output_type": "stream",
     "text": [
<<<<<<< HEAD
      "[0.1146476  0.54467094 0.9940371  0.22185913 0.4851155  0.28683442\n",
      " 0.6852641  0.45169365 0.24700439 0.7989846  0.07022371 0.34551382\n",
      " 0.37095213 0.09764643 0.5734125  0.98219603]\n",
=======
      "[0.58085376 0.5048806  0.99052334 0.5899147  0.5211166  0.35997516\n",
      " 0.7275415  0.1242122  0.08336558 0.48458952 0.3289773  0.905333\n",
      " 0.6513156  0.33422878 0.04078896 0.6842935 ]\n",
>>>>>>> 926a25b555fd996e7e0325154cf62662cf71088d
      "(10, 16)\n"
     ]
    }
   ],
   "source": [
    "index = faiss.IndexFlatL2(d)\n",
    "index.add(data)\n",
    "re_data = index.reconstruct(0)  #指定需要恢复的向量的id,每次只能恢复一个向量\n",
    "print(re_data)\n",
    "re_data_n = index.reconstruct_n(0, 10) #从第0个向量开始，连续取10个\n",
    "print(re_data_n.shape)"
   ]
  },
  {
   "cell_type": "markdown",
   "metadata": {},
   "source": [
<<<<<<< HEAD
    "## 从index中移除向量\n",
    "使用remove_ids方法可以移除Index中的部分向量，调用了IDSelector对象（或IDSelectorBatch批量操作）标识每个向量是否应该被移除。\n",
    "因为要遍历标识数据库中的每一个向量，所以只有在需要移除大部分向量时才建议使用。   \n",
=======
    "##从index中移除向量\n",
    "使用remove_ids方法可以移除Index中的部分向量，调用了IDSelector对象（或IDSelectorBatch批量操作）标识每个向量是否应该被移除。因为要遍历标识数据库中的每一个向量，所以只有在需要移除大部分向量时才建议使用。   \n",
>>>>>>> 926a25b555fd996e7e0325154cf62662cf71088d
    "支持IndexFlat, IndexIVFFlat, IndexIVFPQ, IDMap。"
   ]
  },
  {
   "cell_type": "code",
<<<<<<< HEAD
   "execution_count": 5,
=======
   "execution_count": 14,
>>>>>>> 926a25b555fd996e7e0325154cf62662cf71088d
   "metadata": {},
   "outputs": [
    {
     "name": "stdout",
     "output_type": "stream",
     "text": [
      "500\n",
      "495\n"
     ]
    }
   ],
   "source": [
    "index = faiss.IndexFlatL2(d)\n",
    "index.add(data)\n",
    "print(index.ntotal)\n",
    "index.remove_ids(np.arange(5)) # 需要移除的向量的id\n",
    "print(index.ntotal)  #移除了5个向量，还剩495个"
   ]
  },
  {
   "cell_type": "markdown",
   "metadata": {},
   "source": [
<<<<<<< HEAD
    "## 搜索距离范围内的向量\n",
=======
    "##搜索距离范围内的向量\n",
>>>>>>> 926a25b555fd996e7e0325154cf62662cf71088d
    "以查询向量为中心，返回距离在一定范围内的结果，如返回数据库中与查询向量距离小于0.3的结果。  \n",
    "支持IndexFlat, IndexIVFFlat，只支持在CPU使用。"
   ]
  },
  {
   "cell_type": "code",
<<<<<<< HEAD
   "execution_count": 6,
=======
   "execution_count": 26,
>>>>>>> 926a25b555fd996e7e0325154cf62662cf71088d
   "metadata": {},
   "outputs": [
    {
     "name": "stdout",
     "output_type": "stream",
     "text": [
<<<<<<< HEAD
      "(array([ 0, 44]), array([1.5489485, 1.1085085, 1.7107964, 1.7111322, 0.       , 1.2885787,\n",
      "       1.4845107, 1.6388105, 1.3022718, 1.0537754, 1.6105189, 1.5938727,\n",
      "       1.5774066, 1.717669 , 1.0700037, 1.5231932, 1.3012269, 1.5652088,\n",
      "       1.40096  , 1.7588573, 1.779114 , 1.5483363, 1.4355435, 1.6247532,\n",
      "       1.1888496, 1.2946278, 1.7681053, 1.4644938, 1.1883217, 1.7283393,\n",
      "       1.2881436, 1.6004314, 1.7509582, 1.6666546, 1.6222446, 0.6442729,\n",
      "       1.5345886, 1.3040872, 1.7933996, 1.6669898, 1.4978645, 1.6146674,\n",
      "       1.5139703, 1.370779 ], dtype=float32), array([  0,  14,  37,  47,  49,  52,  61,  79,  88, 107, 132, 136, 147,\n",
      "       152, 158, 160, 175, 190, 191, 197, 207, 224, 230, 232, 254, 264,\n",
      "       272, 273, 279, 281, 310, 359, 360, 362, 365, 373, 386, 387, 396,\n",
      "       419, 422, 453, 477, 484]))\n",
      "(array([ 0, 54]), array([1.684367  , 1.574913  , 0.        , 1.6423104 , 1.2309954 ,\n",
      "       1.294724  , 1.6520755 , 1.3955398 , 1.506399  , 1.3714306 ,\n",
      "       1.4897372 , 1.4907067 , 1.3156178 , 1.360476  , 1.567541  ,\n",
      "       1.5728381 , 1.4825207 , 1.7503804 , 1.2515196 , 1.7539557 ,\n",
      "       1.7791764 , 1.43591   , 1.7886508 , 1.3939224 , 1.4730481 ,\n",
      "       1.4832444 , 1.6983796 , 1.2079208 , 1.2920693 , 1.7745074 ,\n",
      "       1.3374646 , 1.7608247 , 1.2160819 , 1.3046864 , 0.96672356,\n",
      "       1.4477503 , 0.7525268 , 1.4028986 , 1.6917598 , 1.525211  ,\n",
      "       1.731163  , 1.1090016 , 1.7061305 , 1.2931614 , 1.3657205 ,\n",
      "       1.7354913 , 1.0766687 , 1.7367858 , 1.5308623 , 1.3694669 ,\n",
      "       1.26859   , 1.7391385 , 1.4954634 , 1.5247941 ], dtype=float32), array([  0,   4,   9,  14,  18,  30,  51,  67,  68,  74,  99, 106, 116,\n",
      "       138, 144, 147, 149, 150, 152, 158, 160, 179, 201, 202, 212, 215,\n",
      "       221, 225, 232, 240, 242, 245, 267, 270, 299, 306, 314, 348, 363,\n",
      "       374, 395, 396, 402, 408, 414, 424, 425, 430, 432, 466, 467, 484,\n",
      "       488, 496]))\n"
=======
      "(array([0, 8], dtype=uint64), array([0.        , 1.165087  , 0.92170537, 0.9101888 , 1.2231735 ,\n",
      "       1.2296542 , 1.2302384 , 1.1056653 ], dtype=float32), array([ 49, 135, 150, 225, 266, 323, 484, 491]))\n",
      "(array([ 0, 26], dtype=uint64), array([1.2187614 , 0.        , 1.2426732 , 0.82170576, 1.1128769 ,\n",
      "       0.8076687 , 1.2431146 , 0.9778436 , 1.2443304 , 1.1967008 ,\n",
      "       1.1036559 , 1.1283486 , 1.1076214 , 1.2520782 , 1.2406417 ,\n",
      "       1.2235129 , 1.0338147 , 1.1743065 , 0.9288659 , 1.1673778 ,\n",
      "       1.1726046 , 1.1790745 , 1.1337838 , 1.1365123 , 1.2428    ,\n",
      "       1.0492276 ], dtype=float32), array([  6,   9,  11,  15,  41,  47,  50,  58,  75, 104, 108, 112, 122,\n",
      "       135, 162, 169, 213, 236, 271, 290, 342, 434, 463, 467, 477, 479]))\n"
>>>>>>> 926a25b555fd996e7e0325154cf62662cf71088d
     ]
    }
   ],
   "source": [
    "index = faiss.IndexFlatL2(d)\n",
    "index.add(data)\n",
    "dist = float(np.linalg.norm(data[3] - data[0])) * 0.99  # 定义一个半径/阈值\n",
    "res_index = index.range_search(data[[49], :], dist)  #用第50个向量查询\n",
    "print(res_index) #返回结果是一个三元组，分别是limit(返回的结果的数量), distance, index\n",
    "res_index = index.range_search(data[[9], :], dist)  #用第10个向量查询\n",
    "print(res_index) #返回结果是一个三元组，分别是limit(返回的结果的数量), distance, index"
   ]
  },
  {
   "cell_type": "markdown",
   "metadata": {},
   "source": [
<<<<<<< HEAD
    "## 拆分/合并index\n",
=======
    "##拆分/合并index\n",
>>>>>>> 926a25b555fd996e7e0325154cf62662cf71088d
    "可以将多个index合并，需要注意的是，多个Index的数据应该满足同一分布，并且用同一分布的数据训练index，如果多个Index的数据分布不同，合并时并不会报错，但在理论上会降低索引的精度，应该用与合并后的数据集同分布的训练集再次训练。"
   ]
  },
  {
   "cell_type": "code",
   "execution_count": 35,
   "metadata": {},
   "outputs": [
    {
     "name": "stdout",
     "output_type": "stream",
     "text": [
      "500\n",
      "[[  0  28 382 194 286 114 308 480 254 279]\n",
      " [  1 416 272 250 296 138 366 281  93 169]\n",
      " [  2  44 491 231 178 285 117 273  83 187]\n",
      " [  3 194  28 143 270 430 264 382 197 279]\n",
      " [  4 464 317  89 325 498  83 101 285  51]]\n"
     ]
    }
   ],
   "source": [
    "nlist = 10\n",
    "quantizer = faiss.IndexFlatL2(d)\n",
    "index1 = faiss.IndexIVFFlat(quantizer, d, nlist)\n",
    "index1.train(data)\n",
    "index1.add(data[:250])\n",
    "index2 = faiss.IndexIVFFlat(quantizer, d, nlist)\n",
    "index2.add(data[250:])\n",
    "index1.merge_from(index2, 250)\n",
    "print(index1.ntotal) # 合并后应该包含500个向量\n",
    "dis, ind = index1.search(data[:5], 10)\n",
    "print(ind)"
   ]
  }
 ],
 "metadata": {
  "kernelspec": {
   "display_name": "Python 3",
   "language": "python",
   "name": "python3"
  },
  "language_info": {
   "codemirror_mode": {
    "name": "ipython",
    "version": 3
   },
   "file_extension": ".py",
   "mimetype": "text/x-python",
   "name": "python",
   "nbconvert_exporter": "python",
   "pygments_lexer": "ipython3",
   "version": "3.7.5"
  }
 },
 "nbformat": 4,
 "nbformat_minor": 1
}

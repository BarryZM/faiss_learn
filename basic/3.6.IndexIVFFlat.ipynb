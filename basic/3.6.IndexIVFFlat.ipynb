{
 "cells": [
  {
   "cell_type": "markdown",
   "metadata": {},
   "source": [
    "# IndexIVFFlat演示"
   ]
  },
  {
   "cell_type": "markdown",
   "metadata": {},
   "source": [
    "## 更快的索引"
   ]
  },
  {
   "cell_type": "markdown",
   "metadata": {},
   "source": [
    "为了加快搜索速度，可以将数据集分割成几部分。\n",
    "\n",
    "我们在d维空间中定义Voronoi单元格，并且每个数据库矢量都落入其中一个单元格中。在搜索时，只有查询x所在单元中包含的数据库向量y与少数几个相邻查询向量进行比较。(划分搜索空间)\n",
    "\n",
    "这是通过IndexIVFFlat索引完成的。这种类型的索引需要一个训练的过程，可以在与数据库向量具有相同分布的任何向量集合上执行。在这种情况下，我们只测试数据进行搜索。\n",
    "\n",
    "这IndexIVFFlat还需要另一个索引，即量化器(quantizer)，它将矢量分配给Voronoi单元。每个单元由一个质心定义，找到一个矢量所在的Voronoi单元包括在质心集中找到该矢量的最近邻居。这是另一个索引的任务，通常是索引IndexFlatL2。\n",
    "\n",
    "搜索方法有两个参数：\n",
    "- nlist 划分单元格的数量\n",
    "- nprobe 执行搜索访问的单元格数(不包括nlist)"
   ]
  },
  {
   "cell_type": "markdown",
   "metadata": {},
   "source": [
    "## 完整代码"
   ]
  },
  {
   "cell_type": "code",
   "execution_count": 1,
   "metadata": {},
   "outputs": [
    {
     "name": "stdout",
     "output_type": "stream",
     "text": [
      "[[ 9900  9309  9810 10048]\n",
      " [11055 10895 10812 11321]\n",
      " [11353 10164  9787 10719]\n",
      " [10571 10664 10632 10203]\n",
      " [ 9628  9554  9582 10304]]\n",
      "[[ 9900 10500  9309  9831]\n",
      " [11055 10895 10812 11321]\n",
      " [11353 11103 10164  9787]\n",
      " [10571 10664 10632  9638]\n",
      " [ 9628  9554 10036  9582]]\n"
     ]
    }
   ],
   "source": [
    "import numpy as np\n",
    "d = 64                              # 向量维度\n",
    "nb = 100000                         # 向量集大小\n",
    "nq = 10000                          # 查询次数\n",
    "np.random.seed(1234)                # 随机种子,使结果可复现\n",
    "xb = np.random.random((nb, d)).astype('float32')\n",
    "xb[:, 0] += np.arange(nb) / 1000.\n",
    "xq = np.random.random((nq, d)).astype('float32')\n",
    "xq[:, 0] += np.arange(nq) / 1000.\n",
    "\n",
    "import faiss\n",
    "\n",
    "nlist = 100\n",
    "k = 4\n",
    "quantizer = faiss.IndexFlatL2(d)  # quantizer\n",
    "index = faiss.IndexIVFFlat(quantizer, d, nlist, faiss.METRIC_L2)\n",
    "# here we specify METRIC_L2, by default it performs inner-product search\n",
    "\n",
    "assert not index.is_trained\n",
    "index.train(xb)\n",
    "assert index.is_trained\n",
    "\n",
    "index.add(xb)                  # 添加索引可能会有一点慢\n",
    "D, I = index.search(xq, k)     # 搜索\n",
    "print(I[-5:])                  # 最初五次查询的结果\n",
    "index.nprobe = 10              # 默认 nprobe 是1 ,可以设置的大一些试试\n",
    "D, I = index.search(xq, k)\n",
    "print(I[-5:])                  # 最后五次查询的结果"
   ]
  },
  {
   "cell_type": "markdown",
   "metadata": {},
   "source": [
    "## 结果"
   ]
  },
  {
   "cell_type": "markdown",
   "metadata": {},
   "source": [
    "- 当nprobe = 1时，结果看起来像"
   ]
  },
  {
   "cell_type": "markdown",
   "metadata": {},
   "source": [
    "```\n",
    "[[ 9900 10500  9831 10808]\n",
    " [11055 10812 11321 10260]\n",
    " [11353 10164 10719 11013]\n",
    " [10571 10203 10793 10952]\n",
    " [ 9582 10304  9622  9229]]\n",
    "```\n",
    "结果和上面的L2强力搜索类似，但是不同。这是因为一些结果可能不在完全相同的Voronoi单元格。因此，访问更多的单元格可能是有用的(提高精度)。"
   ]
  },
  {
   "cell_type": "markdown",
   "metadata": {},
   "source": [
    "- 将 nprobe 增加到10的确如此"
   ]
  },
  {
   "cell_type": "markdown",
   "metadata": {},
   "source": [
    "```\n",
    "[[ 9900 10500  9309  9831]\n",
    " [11055 10895 10812 11321]\n",
    " [11353 11103 10164  9787]\n",
    " [10571 10664 10632  9638]\n",
    " [ 9628  9554 10036  9582]]\n",
    " ```\n",
    "这是精确的结果。请注意，在这种情况下获得完美结果仅仅是数据分布的人为因素，因为它在x轴上具有强大的组件，这使得它更易于处理。nprobe 参数始终是调整结果速度和准确度之间折中的一种方式 。设置 nprobe = nlist 将给出与蛮力搜索（但会更慢）相同的结果。\n"
   ]
  },
  {
   "cell_type": "code",
   "execution_count": null,
   "metadata": {},
   "outputs": [],
   "source": []
  }
 ],
 "metadata": {
  "kernelspec": {
   "display_name": "Python 3",
   "language": "python",
   "name": "python3"
  },
  "language_info": {
   "codemirror_mode": {
    "name": "ipython",
    "version": 3
   },
   "file_extension": ".py",
   "mimetype": "text/x-python",
   "name": "python",
   "nbconvert_exporter": "python",
   "pygments_lexer": "ipython3",
   "version": "3.7.5"
  }
 },
 "nbformat": 4,
 "nbformat_minor": 2
}

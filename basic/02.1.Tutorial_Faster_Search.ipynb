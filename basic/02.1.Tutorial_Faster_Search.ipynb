{
 "cells": [
  {
   "cell_type": "markdown",
   "metadata": {},
   "source": [
    "# Tutorial 快速入门\n",
    "\n",
    "https://github.com/facebookresearch/faiss/wiki/Faster-search"
   ]
  },
  {
   "cell_type": "code",
   "execution_count": 1,
   "metadata": {},
   "outputs": [
    {
     "name": "stdout",
     "output_type": "stream",
     "text": [
      "xb (100000, 64)\n",
      "xb [[0.19151945 0.62210876 0.43772775 0.7853586  0.77997583 0.2725926\n",
      "  0.27646425 0.8018722  0.95813936 0.87593263 0.35781726 0.5009951\n",
      "  0.6834629  0.71270204 0.37025076 0.5611962  0.50308317 0.01376845\n",
      "  0.7728266  0.8826412  0.364886   0.6153962  0.07538124 0.368824\n",
      "  0.9331401  0.65137815 0.39720258 0.78873014 0.31683612 0.56809866\n",
      "  0.8691274  0.4361734  0.8021476  0.14376682 0.70426095 0.7045813\n",
      "  0.21879211 0.92486763 0.44214076 0.90931594 0.05980922 0.18428709\n",
      "  0.04735528 0.6748809  0.59462476 0.5333102  0.04332406 0.5614331\n",
      "  0.32966843 0.5029668  0.11189432 0.6071937  0.5659447  0.00676406\n",
      "  0.6174417  0.9121229  0.7905241  0.99208146 0.95880175 0.7919641\n",
      "  0.28525096 0.62491673 0.4780938  0.19567518]]\n",
      "xq (10000, 64)\n",
      "xq [[0.81432974 0.7409969  0.8915324  0.02642949 0.24954738 0.75948536\n",
      "  0.33756447 0.0388501  0.06253924 0.04496585 0.6500265  0.14300306\n",
      "  0.10555115 0.7554373  0.8733019  0.91065574 0.949595   0.4678057\n",
      "  0.7957018  0.06088004 0.5086471  0.7798314  0.42084002 0.49393055\n",
      "  0.51475203 0.59598726 0.8164803  0.6895009  0.42959374 0.8051452\n",
      "  0.08729313 0.0663529  0.0201008  0.677681   0.8932952  0.41095483\n",
      "  0.16123782 0.14441694 0.1827087  0.6027973  0.48050675 0.9779244\n",
      "  0.6363663  0.18064964 0.13591066 0.8322959  0.5291623  0.31196308\n",
      "  0.45191374 0.5528666  0.06121221 0.83773404 0.44387    0.1658945\n",
      "  0.01169583 0.33254945 0.22699533 0.46597633 0.06443579 0.9420383\n",
      "  0.36051401 0.72459674 0.893881   0.6574571 ]]\n"
     ]
    }
   ],
   "source": [
    "import numpy as np\n",
    "d = 64                           # dimension\n",
    "nb = 100000                      # database size\n",
    "nq = 10000                       # nb of queries\n",
    "np.random.seed(1234)             # make reproducible\n",
    "xb = np.random.random((nb, d)).astype('float32')\n",
    "xb[:, 0] += np.arange(nb) / 1000.\n",
    "xq = np.random.random((nq, d)).astype('float32')\n",
    "xq[:, 0] += np.arange(nq) / 1000.\n",
    "print('xb', xb.shape)\n",
    "print('xb', xb[:1])\n",
    "print('xq', xq.shape)\n",
    "print('xq', xq[:1])"
   ]
  },
  {
   "cell_type": "markdown",
   "metadata": {},
   "source": [
    "## This is too slow, how can I make it faster?——IndexIVFFlat"
   ]
  },
  {
   "cell_type": "markdown",
   "metadata": {},
   "source": [
    "为了加快搜索，可以将数据集分割成块. We define `Voronoi cells` in the d-dimensional space, and each database vector falls in one of the cells. At search time, only the database vectors y contained in the cell the query x falls in and a few neighboring ones are compared against the query vector.\n",
    "\n",
    "This is done via the `IndexIVFFlat` index. 该索引需要一个训练阶段, that can be performed on any collection of vectors that has the same distribution as the database vectors. In this case we just use the database vectors themselves.\n",
    "\n",
    "`IndexIVFFlat` 也需要另一个索引——quantizer（量化器），把向量分配到`Voronoi cells`. Each cell is defined by a centroid, and finding the Voronoi cell a vector falls in consists in finding the nearest neighbor of the vector in the set of centroids. 这个任务由另一个索引完成，通常情况是`IndexFlatL2`.\n",
    "\n",
    "There are two parameters to the search method: `nlist`, the number of cells, and `nprobe`, the number of cells (out of nlist) that are visited to perform a search. \n",
    "\n",
    "搜索时间大致随probe数量的增加而线性增加（再加上量化后的某个常数）。当`nprobe=nlist`时相当于暴力搜索。"
   ]
  },
  {
   "cell_type": "code",
   "execution_count": 4,
   "metadata": {},
   "outputs": [
    {
     "name": "stdout",
     "output_type": "stream",
     "text": [
      "10000\n",
      "[[ 9900  9309  9810 10048]\n",
      " [11055 10895 10812 11321]\n",
      " [11353 10164  9787 10719]\n",
      " [10571 10664 10632 10203]\n",
      " [ 9628  9554  9582 10304]]\n",
      "10000\n",
      "[[ 9900 10500  9309  9831]\n",
      " [11055 10895 10812 11321]\n",
      " [11353 11103 10164  9787]\n",
      " [10571 10664 10632  9638]\n",
      " [ 9628  9554 10036  9582]]\n",
      "10000\n",
      "[[ 9900 10500  9309  9831]\n",
      " [11055 10895 10812 11321]\n",
      " [11353 11103 10164  9787]\n",
      " [10571 10664 10632  9638]\n",
      " [ 9628  9554 10036  9582]]\n",
      "[[6.531542  6.978715  7.003928  7.0137343]\n",
      " [4.3351846 5.236974  5.3194113 5.703156 ]\n",
      " [6.0726953 6.5766897 6.6140213 6.732214 ]\n",
      " [6.6373663 6.648776  6.8578253 7.0096517]\n",
      " [6.218346  6.4524803 6.54873   6.5813117]]\n"
     ]
    }
   ],
   "source": [
    "nlist = 100\n",
    "k = 4\n",
    "\n",
    "import faiss \n",
    "\n",
    "quantizer = faiss.IndexFlatL2(d)  # the other index as \n",
    "index = faiss.IndexIVFFlat(quantizer, d, nlist)\n",
    "assert not index.is_trained\n",
    "index.train(xb)\n",
    "assert index.is_trained\n",
    "\n",
    "index.add(xb)                  # add may be a bit slower as well\n",
    "D, I = index.search(xq, k)     # actual search\n",
    "print(len(I))                  # len(I) is equal to nq\n",
    "print(I[-5:])                  # neighbors of the 5 last queries\n",
    "index.nprobe = 10              # default nprobe is 1, try a few more\n",
    "D, I = index.search(xq, k)\n",
    "print(len(I))\n",
    "print(I[-5:])                  # neighbors of the 5 last queries\n",
    "index.nprobe = nlist           # default nprobe is 1, try a few more\n",
    "D, I = index.search(xq, k)\n",
    "print(len(I))\n",
    "print(I[-5:])                  # neighbors of the 5 last queries"
   ]
  },
  {
   "cell_type": "markdown",
   "metadata": {},
   "source": [
    "备注：\n",
    "\n",
    "- `len(I)` 的长度就是 `xq` 的长度。\n",
    "- `I` 结果\n",
    "```\n",
    "[[ 9900  9309  9810 10048]\n",
    " [11055 10895 10812 11321]\n",
    " [11353 10164  9787 10719]\n",
    " [10571 10664 10632 10203]\n",
    " [ 9628  9554  9582 10304]]\n",
    "```\n",
    "search的结果是向量的索引，这里k近邻为4，4个索引。"
   ]
  },
  {
   "cell_type": "markdown",
   "metadata": {},
   "source": [
    "# Results"
   ]
  },
  {
   "cell_type": "markdown",
   "metadata": {},
   "source": [
    "当 `nprobe=1`, 结果如下所示：\n",
    "```text\n",
    "[[ 9900  9309  9810 10048]\n",
    " [11055 10895 10812 11321]\n",
    " [11353 10164  9787 10719]\n",
    " [10571 10664 10632 10203]\n",
    " [ 9628  9554  9582 10304]]\n",
    "```\n",
    "这个结果与暴力搜索相比不够准确。`（衡量搜索的准确性，与暴力搜索相比。）`\n",
    "```python\n",
    "index = faiss.IndexFlatL2(d)\n",
    "index.add(xb)\n",
    "D, I = index.search(xq, k)\n",
    "print(I[-5:])\n",
    "# [[ 9900 10500  9309  9831]\n",
    "#  [11055 10895 10812 11321]\n",
    "#  [11353 11103 10164  9787]\n",
    "#  [10571 10664 10632  9638]\n",
    "#  [ 9628  9554 10036  9582]]\n",
    "```\n",
    "This is because some of the results were not in the exact same Voronoi cell. Therefore, visiting a few more cells may prove useful.\n",
    "\n",
    "当 nprobe 增加到 `10`：\n",
    "```text\n",
    "[[ 9900 10500  9309  9831]\n",
    " [11055 10895 10812 11321]\n",
    " [11353 11103 10164  9787]\n",
    " [10571 10664 10632  9638]\n",
    " [ 9628  9554 10036  9582]]\n",
    "```\n",
    "这是正确的结果. Note that getting a perfect result in this case is merely an artifact of the data distribution, as it is has a strong component on the x-axis which makes it easier to handle. \n",
    "\n",
    "`nprobe` 参数是调节速度与准确性之间的折衷方法. \n",
    "\n",
    "当设置 `nprobe=nlist` 时，等价于暴力搜索（brute-force search），此时会搜索会变慢."
   ]
  },
  {
   "cell_type": "code",
   "execution_count": null,
   "metadata": {},
   "outputs": [],
   "source": []
  }
 ],
 "metadata": {
  "kernelspec": {
   "display_name": "Python 3",
   "language": "python",
   "name": "python3"
  },
  "language_info": {
   "codemirror_mode": {
    "name": "ipython",
    "version": 3
   },
   "file_extension": ".py",
   "mimetype": "text/x-python",
   "name": "python",
   "nbconvert_exporter": "python",
   "pygments_lexer": "ipython3",
   "version": "3.7.5"
  },
  "pycharm": {
   "stem_cell": {
    "cell_type": "raw",
    "metadata": {
     "collapsed": false
    },
    "source": []
   }
  }
 },
 "nbformat": 4,
 "nbformat_minor": 2
}

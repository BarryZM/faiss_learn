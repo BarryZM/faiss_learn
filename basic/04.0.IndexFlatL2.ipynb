{
 "cells": [
  {
   "cell_type": "markdown",
   "metadata": {},
   "source": [
    "# IndexFlatL2演示"
   ]
  },
  {
   "cell_type": "markdown",
   "metadata": {},
   "source": [
    "## 目录\n",
    "- faiss简介\n",
    "- 演示\n",
    "    - 构造测试训练数据\n",
    "    - 训练\n",
    "    - 用k-近邻搜索\n",
    "    - 完整代码\n",
    "- 参考"
   ]
  },
  {
   "cell_type": "markdown",
   "metadata": {},
   "source": [
    "# faiss简介"
   ]
  },
  {
   "cell_type": "markdown",
   "metadata": {},
   "source": [
    "- 由Facebook AI Research开发\n",
    "- 用C++编写\n",
    "- 提供Python接口\n",
    "- 一些核心算法提供了GPU实现\n",
    "- 是一个用于相似性搜索和密集向量聚类的高性能库，支持十亿级别向量的搜索，是目前最为成熟的相似性搜索库\n",
    "- 为高维向量提供精确或近似最近邻搜索的功能\n",
    "- 无监督学习\n",
    "- 包含多种搜索任意大小向量集的算法，以及用于算法评估和参数调整的支持代码。向量集大小由内存决定\n",
    "- 它假设实例被表示为向量，并用整数标识，可以用L2距离或点积进行比较。与查询向量相似的向量，是那些与该具有最低L2距离或最高点积的向量。它还支持余弦相似性，因为这是归一化向量上的点积。\n",
    "- 大多数方法，如基于二进制向量和紧凑量化码的方法，仅使用向量的压缩表示，而不需要保留原始向量。这通常以不太精确的搜索为代价，这些方法可以在单个服务器的主内存中进行数十亿向量集的搜索。\n",
    "- GPU实现支持单或多GPU"
   ]
  },
  {
   "cell_type": "markdown",
   "metadata": {},
   "source": [
    "# IndexFlatL2演示"
   ]
  },
  {
   "cell_type": "code",
   "execution_count": 1,
   "metadata": {},
   "outputs": [],
   "source": [
    "import numpy as np\n",
    "import faiss\n",
    "import time"
   ]
  },
  {
   "cell_type": "markdown",
   "metadata": {},
   "source": [
    "### 构造测试训练数据"
   ]
  },
  {
   "cell_type": "markdown",
   "metadata": {},
   "source": [
    "下面构造如下向量集合：\n",
    "1. 10万个向量集合\n",
    "2. 每个向量64个维度\n",
    "3. 进行1万次相似性搜索"
   ]
  },
  {
   "cell_type": "code",
   "execution_count": 2,
   "metadata": {},
   "outputs": [
    {
     "name": "stdout",
     "output_type": "stream",
     "text": [
      "[[ 0.81432974  0.7409969   0.8915324  ...  0.72459674  0.893881\n",
      "   0.6574571 ]\n",
      " [ 0.5844774   0.797842    0.74140453 ...  0.6768835   0.05907924\n",
      "   0.6396156 ]\n",
      " [ 0.75040764  0.02659794  0.5495097  ...  0.69562465  0.16268532\n",
      "   0.76653737]\n",
      " ...\n",
      " [10.96773     0.05037309  0.7342035  ...  0.89510185  0.6490696\n",
      "   0.86151606]\n",
      " [10.831193    0.70606154  0.1922274  ...  0.8026039   0.6854174\n",
      "   0.60209423]\n",
      " [10.078484    0.39106598  0.01359335 ...  0.63193923  0.12561724\n",
      "   0.78384215]]\n"
     ]
    }
   ],
   "source": [
    "d = 64                           \n",
    "nb = 100000                       \n",
    "nq = 10000                       \n",
    "np.random.seed(1234)                              # 对生成的数据，每次都一样，可预见，若无此句，每次都不一样\n",
    "xb = np.random.random((nb, d)).astype('float32')  # 向量集合，矩阵nb*d\n",
    "xb[:, 0] += np.arange(nb) / 1000                  # 修正向量集合第一列，每项加 0...nb/1000 小数\n",
    "xq = np.random.random((nq, d)).astype('float32')\n",
    "xq[:, 0] += np.arange(nq) / 1000 \n",
    "print(xq)"
   ]
  },
  {
   "cell_type": "markdown",
   "metadata": {},
   "source": [
    "> 说明：\n",
    ">\n",
    "> - Faiss处理固定维数d的向量集合（矩阵），d通常为几十到几百。\n",
    ">\n",
    "> - `xb`为`[100000,64]`的训练数据，`xq`为`[10000,64]`的查询数据。\n",
    ">\n",
    "> - 只使用32位浮点矩阵。\n",
    ">\n",
    "> - 行主存储，即向量编号为`i`的第`j`个分量存储在矩阵的第`i`行第`j`列中。\n",
    "> \n",
    "> 例如，如下向量集合为5个数据，每个数据为2维度：\n",
    "> ```\n",
    "> [[0.19151945 0.62210876]\n",
    ">  [0.43872774 0.7853586 ]\n",
    ">  [0.7819758  0.2725926 ]\n",
    ">  [0.27946424 0.8018722 ]\n",
    ">  [0.96213937 0.87593263]]\n",
    "> ```"
   ]
  },
  {
   "cell_type": "markdown",
   "metadata": {},
   "source": [
    "`add`方法一般添加训练时的样本，`search`方法是查找相似向量。"
   ]
  },
  {
   "cell_type": "markdown",
   "metadata": {},
   "source": [
    "### 训练"
   ]
  },
  {
   "cell_type": "markdown",
   "metadata": {},
   "source": [
    "- faiss创建索引从而对向量预处理，提高查询效率。\n",
    "- faiss最简单的暴力检索L2距离：`IndexFlatL2`。`IndexFlatL2`是评价基线。\n",
    "- 创建索引时，必须指定数据集向量维度`d`。 "
   ]
  },
  {
   "cell_type": "code",
   "execution_count": 3,
   "metadata": {},
   "outputs": [
    {
     "name": "stdout",
     "output_type": "stream",
     "text": [
      "is_trained True\n",
      "ntotal 100000\n"
     ]
    }
   ],
   "source": [
    "index = faiss.IndexFlatL2(d)\n",
    "print('is_trained',index.is_trained)\n",
    "index.add(xb)\n",
    "print('ntotal', index.ntotal)"
   ]
  },
  {
   "cell_type": "code",
   "execution_count": 4,
   "metadata": {},
   "outputs": [
    {
     "data": {
      "text/plain": [
       "array([0.19151945, 0.62210876, 0.43772775, 0.7853586 , 0.77997583,\n",
       "       0.2725926 , 0.27646425, 0.8018722 , 0.95813936, 0.87593263,\n",
       "       0.35781726, 0.5009951 , 0.6834629 , 0.71270204, 0.37025076,\n",
       "       0.5611962 , 0.50308317, 0.01376845, 0.7728266 , 0.8826412 ,\n",
       "       0.364886  , 0.6153962 , 0.07538124, 0.368824  , 0.9331401 ,\n",
       "       0.65137815, 0.39720258, 0.78873014, 0.31683612, 0.56809866,\n",
       "       0.8691274 , 0.4361734 , 0.8021476 , 0.14376682, 0.70426095,\n",
       "       0.7045813 , 0.21879211, 0.92486763, 0.44214076, 0.90931594,\n",
       "       0.05980922, 0.18428709, 0.04735528, 0.6748809 , 0.59462476,\n",
       "       0.5333102 , 0.04332406, 0.5614331 , 0.32966843, 0.5029668 ,\n",
       "       0.11189432, 0.6071937 , 0.5659447 , 0.00676406, 0.6174417 ,\n",
       "       0.9121229 , 0.7905241 , 0.99208146, 0.95880175, 0.7919641 ,\n",
       "       0.28525096, 0.62491673, 0.4780938 , 0.19567518], dtype=float32)"
      ]
     },
     "execution_count": 4,
     "metadata": {},
     "output_type": "execute_result"
    }
   ],
   "source": [
    "index.reconstruct(0)"
   ]
  },
  {
   "cell_type": "code",
   "execution_count": 11,
   "metadata": {},
   "outputs": [
    {
     "data": {
      "text/plain": [
       "array([[0.19151945, 0.62210876, 0.43772775, 0.7853586 , 0.77997583,\n",
       "        0.2725926 , 0.27646425, 0.8018722 , 0.95813936, 0.87593263,\n",
       "        0.35781726, 0.5009951 , 0.6834629 , 0.71270204, 0.37025076,\n",
       "        0.5611962 , 0.50308317, 0.01376845, 0.7728266 , 0.8826412 ,\n",
       "        0.364886  , 0.6153962 , 0.07538124, 0.368824  , 0.9331401 ,\n",
       "        0.65137815, 0.39720258, 0.78873014, 0.31683612, 0.56809866,\n",
       "        0.8691274 , 0.4361734 , 0.8021476 , 0.14376682, 0.70426095,\n",
       "        0.7045813 , 0.21879211, 0.92486763, 0.44214076, 0.90931594,\n",
       "        0.05980922, 0.18428709, 0.04735528, 0.6748809 , 0.59462476,\n",
       "        0.5333102 , 0.04332406, 0.5614331 , 0.32966843, 0.5029668 ,\n",
       "        0.11189432, 0.6071937 , 0.5659447 , 0.00676406, 0.6174417 ,\n",
       "        0.9121229 , 0.7905241 , 0.99208146, 0.95880175, 0.7919641 ,\n",
       "        0.28525096, 0.62491673, 0.4780938 , 0.19567518]], dtype=float32)"
      ]
     },
     "execution_count": 11,
     "metadata": {},
     "output_type": "execute_result"
    }
   ],
   "source": [
    "xb[:1][0]"
   ]
  },
  {
   "cell_type": "code",
   "execution_count": 10,
   "metadata": {},
   "outputs": [
    {
     "data": {
      "text/plain": [
       "array([[0.19151945, 0.62210876, 0.43772775, 0.7853586 , 0.77997583,\n",
       "        0.2725926 , 0.27646425, 0.8018722 , 0.95813936, 0.87593263,\n",
       "        0.35781726, 0.5009951 , 0.6834629 , 0.71270204, 0.37025076,\n",
       "        0.5611962 , 0.50308317, 0.01376845, 0.7728266 , 0.8826412 ,\n",
       "        0.364886  , 0.6153962 , 0.07538124, 0.368824  , 0.9331401 ,\n",
       "        0.65137815, 0.39720258, 0.78873014, 0.31683612, 0.56809866,\n",
       "        0.8691274 , 0.4361734 , 0.8021476 , 0.14376682, 0.70426095,\n",
       "        0.7045813 , 0.21879211, 0.92486763, 0.44214076, 0.90931594,\n",
       "        0.05980922, 0.18428709, 0.04735528, 0.6748809 , 0.59462476,\n",
       "        0.5333102 , 0.04332406, 0.5614331 , 0.32966843, 0.5029668 ,\n",
       "        0.11189432, 0.6071937 , 0.5659447 , 0.00676406, 0.6174417 ,\n",
       "        0.9121229 , 0.7905241 , 0.99208146, 0.95880175, 0.7919641 ,\n",
       "        0.28525096, 0.62491673, 0.4780938 , 0.19567518]], dtype=float32)"
      ]
     },
     "execution_count": 10,
     "metadata": {},
     "output_type": "execute_result"
    }
   ],
   "source": [
    "index.reconstruct(0).reshape(1, -1)"
   ]
  },
  {
   "cell_type": "markdown",
   "metadata": {},
   "source": [
    "> 说明：\n",
    "> \n",
    "> - 将向量 xb 添加到 index。大多数索引除了要添加训练数据外，还需要`index.train`训练来分析向量集的分布。但`IndexFlatL2`可以跳过这个操作。"
   ]
  },
  {
   "cell_type": "markdown",
   "metadata": {},
   "source": [
    "### 用k-近邻搜索"
   ]
  },
  {
   "cell_type": "markdown",
   "metadata": {},
   "source": [
    "- 用测试数据来测试"
   ]
  },
  {
   "cell_type": "markdown",
   "metadata": {},
   "source": [
    "```python\n",
    "k = 4   # we want to see 4 nearest neighbors\n",
    "D, I = index.search(xq, k)     # actual search\n",
    "```\n",
    "> - xq is the query data\n",
    "> - k is the num of neigbors you want to search\n",
    "> - D is the distance matrix between xq and k neigbors\n",
    "> - I is the index matrix of k neigbors"
   ]
  },
  {
   "cell_type": "code",
   "execution_count": 5,
   "metadata": {},
   "outputs": [
    {
     "name": "stdout",
     "output_type": "stream",
     "text": [
      "[[  0 393 363  78]\n",
      " [  1 555 277 364]\n",
      " [  2 304 101  13]\n",
      " [  3 173  18 182]\n",
      " [  4 288 370 531]]\n",
      "[[0.        7.1751733 7.207629  7.2511625]\n",
      " [0.        6.3235645 6.684581  6.7999454]\n",
      " [0.        5.7964087 6.391736  7.2815123]\n",
      " [0.        7.2779055 7.5279865 7.6628466]\n",
      " [0.        6.7638035 7.2951202 7.3688145]]\n"
     ]
    }
   ],
   "source": [
    "k = 4                               # k邻近搜索 k=4 \n",
    "D, I = index.search(xb[:5], k)      # 用xb前五个数据测试\n",
    "print(I)\n",
    "print(D)"
   ]
  },
  {
   "cell_type": "code",
   "execution_count": 6,
   "metadata": {},
   "outputs": [
    {
     "name": "stdout",
     "output_type": "stream",
     "text": [
      "[[99995 99822 99864 99692 99810 99608 98764 98978 99653 99815]\n",
      " [99996 99836 99784 99941 99800 99995 99647 99506 99656 99859]\n",
      " [99997 99339 99946 99273 99647 99608 99874 99138 99742 99434]\n",
      " [99998 99711 99798 99584 99817 99508 99974 99206 98991 99332]\n",
      " [99999 99404 99659 99941 99693 99931 99827 99562 99568 99653]]\n",
      "[[0.        5.665085  5.704484  5.785391  5.862203  6.327144  6.331679\n",
      "  6.382374  6.421702  6.436242 ]\n",
      " [0.        6.68367   6.842343  6.920699  7.0573673 7.116924  7.1207876\n",
      "  7.1694236 7.1842127 7.2120733]\n",
      " [0.        6.7744017 6.818219  6.88326   6.965914  6.992526  7.3095956\n",
      "  7.3889666 7.4510303 7.602867 ]\n",
      " [0.        7.5281425 7.7377906 7.9008036 7.973149  8.318675  8.52397\n",
      "  8.649483  8.698359  8.7357855]\n",
      " [0.        6.173254  7.0847716 7.2752233 7.599222  7.824944  7.891345\n",
      "  7.9095006 8.020744  8.248194 ]]\n"
     ]
    }
   ],
   "source": [
    "k = 10                               # k邻近搜索 k=10\n",
    "D, I = index.search(xb[-5:], k)      # 用xb前五个数据测试\n",
    "print(I)"
   ]
  },
  {
   "cell_type": "code",
   "execution_count": 14,
   "metadata": {},
   "outputs": [
    {
     "name": "stdout",
     "output_type": "stream",
     "text": [
      "[[   1  555  277  364  617  175 1063  756   77  191]]\n",
      "[[0.        6.3235645 6.684581  6.7999454 6.8844795 6.919898  6.927656\n",
      "  7.493     7.4973536 7.5480022]]\n"
     ]
    }
   ],
   "source": [
    "k = 10                               # k邻近搜索 k=10\n",
    "D, I = index.search(index.reconstruct(1).reshape(1, -1), k)      # 用xb前五个数据测试\n",
    "print(I)\n",
    "print(D)"
   ]
  },
  {
   "cell_type": "markdown",
   "metadata": {},
   "source": [
    "距离此向量最近的确实是他本身。"
   ]
  },
  {
   "cell_type": "markdown",
   "metadata": {},
   "source": [
    "- 用真实数据测试"
   ]
  },
  {
   "cell_type": "code",
   "execution_count": 7,
   "metadata": {},
   "outputs": [
    {
     "name": "stdout",
     "output_type": "stream",
     "text": [
      "[[ 381  207  210  477  588  329  417  555   93  111]\n",
      " [ 526  911  142   72  300  576   64  846  144 1273]\n",
      " [ 838  527 1290  425  281  637 1541  197  789  614]\n",
      " [ 196  184  164  359  466  599  281 1130  758  427]\n",
      " [ 526  377  120  425  545  917  161  416   64  434]]\n",
      "[[ 9900 10500  9309  9831  9810 10808 10568 10048  9649  9632]\n",
      " [11055 10895 10812 11321 10260 10403  9829  9014 10428 10240]\n",
      " [11353 11103 10164  9787 10719  9380 10118 11013 10089 10824]\n",
      " [10571 10664 10632  9638  9589 10203  9894 10418 11268 11348]\n",
      " [ 9628  9554 10036  9582 10304  9622 10103 10016  9229  8943]]\n"
     ]
    }
   ],
   "source": [
    "D, I = index.search(xq, k)          # 执行搜索\n",
    "print(I[:5])                        # 最初五次查询的结果\n",
    "print(I[-5:])                       # 最后五次查询的结果"
   ]
  },
  {
   "cell_type": "markdown",
   "metadata": {},
   "source": [
    "### 完整代码\n",
    "```python\n",
    "import numpy as np\n",
    "\n",
    "d = 64                              # 向量维度\n",
    "nb = 100000                         # 向量集大小\n",
    "nq = 10000                          # 查询次数\n",
    "np.random.seed(1234)                # 结果可复现\n",
    "xb = np.random.random((nb, d)).astype('float32')\n",
    "xb[:, 0] += np.arange(nb) / 1000.   # 修正项\n",
    "xq = np.random.random((nq, d)).astype('float32')\n",
    "xq[:, 0] += np.arange(nq) / 1000.\n",
    "\n",
    "import faiss\n",
    "index = faiss.IndexFlatL2(d)        # 构建FlatL2索引\n",
    "\n",
    "print(index.is_trained)\n",
    "index.add(xb)                       # 向索引中添加向量\n",
    "print(index.ntotal)\n",
    "\n",
    "k = 4                               # k=4的 k邻近搜索\n",
    "D, I = index.search(xq, k)          # 执行搜索\n",
    "print(I[:5])                        # 最初五次查询的结果\n",
    "print(I[-5:])                       # 最后五次查询的结果\n",
    "```"
   ]
  },
  {
   "cell_type": "markdown",
   "metadata": {},
   "source": [
    "## 参考"
   ]
  },
  {
   "cell_type": "markdown",
   "metadata": {},
   "source": [
    "- [官网文档](https://github.com/facebookresearch/faiss/wiki)\n",
    "- [Faiss-indexes](https://github.com/facebookresearch/faiss/wiki/Faiss-indexes)\n",
    "- [similarity search](https://github.com/facebookresearch/faiss/wiki)\n",
    "- [Guidelines to choose an index](https://github.com/facebookresearch/faiss/wiki)\n",
    "- [Benchmarking scripts](https://github.com/facebookresearch/faiss/blob/master/benchs/README.md)"
   ]
  },
  {
   "cell_type": "code",
   "execution_count": null,
   "metadata": {},
   "outputs": [],
   "source": []
  }
 ],
 "metadata": {
  "kernelspec": {
   "display_name": "Python 3",
   "language": "python",
   "name": "python3"
  },
  "language_info": {
   "codemirror_mode": {
    "name": "ipython",
    "version": 3
   },
   "file_extension": ".py",
   "mimetype": "text/x-python",
   "name": "python",
   "nbconvert_exporter": "python",
   "pygments_lexer": "ipython3",
   "version": "3.7.5"
  }
 },
 "nbformat": 4,
 "nbformat_minor": 2
}

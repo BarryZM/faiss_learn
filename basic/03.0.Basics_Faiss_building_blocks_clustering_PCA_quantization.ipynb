{
 "cells": [
  {
   "cell_type": "markdown",
   "metadata": {},
   "source": [
    "# Faiss building blocks: clustering, PCA, quantization\n",
    "\n",
    "https://github.com/facebookresearch/faiss/wiki/Faiss-building-blocks:-clustering,-PCA,-quantization"
   ]
  },
  {
   "cell_type": "markdown",
   "metadata": {},
   "source": [
    "Faiss内置一些高效的基本算法: k-means clustering, PCA, PQ encoding/decoding."
   ]
  },
  {
   "cell_type": "markdown",
   "metadata": {},
   "source": [
    "# Clustering"
   ]
  },
  {
   "cell_type": "markdown",
   "metadata": {},
   "source": [
    "Faiss 提供了一个高效的 k-means 实现. 把 2-D tensor `x` 聚类成一个向量集合，如下所示:"
   ]
  },
  {
   "cell_type": "code",
   "execution_count": 11,
   "metadata": {},
   "outputs": [
    {
     "name": "stdout",
     "output_type": "stream",
     "text": [
      "xb (100000, 64)\n",
      "xb [[0.19151945 0.62210876 0.43772775 0.7853586  0.77997583 0.2725926\n",
      "  0.27646425 0.8018722  0.95813936 0.87593263 0.35781726 0.5009951\n",
      "  0.6834629  0.71270204 0.37025076 0.5611962  0.50308317 0.01376845\n",
      "  0.7728266  0.8826412  0.364886   0.6153962  0.07538124 0.368824\n",
      "  0.9331401  0.65137815 0.39720258 0.78873014 0.31683612 0.56809866\n",
      "  0.8691274  0.4361734  0.8021476  0.14376682 0.70426095 0.7045813\n",
      "  0.21879211 0.92486763 0.44214076 0.90931594 0.05980922 0.18428709\n",
      "  0.04735528 0.6748809  0.59462476 0.5333102  0.04332406 0.5614331\n",
      "  0.32966843 0.5029668  0.11189432 0.6071937  0.5659447  0.00676406\n",
      "  0.6174417  0.9121229  0.7905241  0.99208146 0.95880175 0.7919641\n",
      "  0.28525096 0.62491673 0.4780938  0.19567518]]\n",
      "xq (10000, 64)\n",
      "xq [[0.81432974 0.7409969  0.8915324  0.02642949 0.24954738 0.75948536\n",
      "  0.33756447 0.0388501  0.06253924 0.04496585 0.6500265  0.14300306\n",
      "  0.10555115 0.7554373  0.8733019  0.91065574 0.949595   0.4678057\n",
      "  0.7957018  0.06088004 0.5086471  0.7798314  0.42084002 0.49393055\n",
      "  0.51475203 0.59598726 0.8164803  0.6895009  0.42959374 0.8051452\n",
      "  0.08729313 0.0663529  0.0201008  0.677681   0.8932952  0.41095483\n",
      "  0.16123782 0.14441694 0.1827087  0.6027973  0.48050675 0.9779244\n",
      "  0.6363663  0.18064964 0.13591066 0.8322959  0.5291623  0.31196308\n",
      "  0.45191374 0.5528666  0.06121221 0.83773404 0.44387    0.1658945\n",
      "  0.01169583 0.33254945 0.22699533 0.46597633 0.06443579 0.9420383\n",
      "  0.36051401 0.72459674 0.893881   0.6574571 ]]\n"
     ]
    },
    {
     "data": {
      "text/plain": [
       "493312.94"
      ]
     },
     "execution_count": 11,
     "metadata": {},
     "output_type": "execute_result"
    }
   ],
   "source": [
    "import numpy as np\n",
    "d = 64                           # dimension\n",
    "nb = 100000                      # database size\n",
    "nq = 10000                       # nb of queries\n",
    "np.random.seed(1234)             # make reproducible\n",
    "xb = np.random.random((nb, d)).astype('float32')\n",
    "xb[:, 0] += np.arange(nb) / 1000.\n",
    "xq = np.random.random((nq, d)).astype('float32')\n",
    "xq[:, 0] += np.arange(nq) / 1000.\n",
    "print('xb', xb.shape)\n",
    "print('xb', xb[:1])\n",
    "print('xq', xq.shape)\n",
    "print('xq', xq[:1])\n",
    "\n",
    "import faiss\n",
    "\n",
    "ncentroids = 1024\n",
    "niter = 20\n",
    "verbose = True\n",
    "d = xb.shape[1]\n",
    "kmeans = faiss.Kmeans(d, ncentroids, niter=niter, verbose=verbose)\n",
    "kmeans.train(xb)"
   ]
  },
  {
   "cell_type": "markdown",
   "metadata": {},
   "source": [
    "结果 `centroids` 位于 `kmeans.centroids`."
   ]
  },
  {
   "cell_type": "code",
   "execution_count": 12,
   "metadata": {},
   "outputs": [
    {
     "data": {
      "text/plain": [
       "(1024, 64)"
      ]
     },
     "execution_count": 12,
     "metadata": {},
     "output_type": "execute_result"
    }
   ],
   "source": [
    "kmeans.centroids.shape"
   ]
  },
  {
   "cell_type": "markdown",
   "metadata": {},
   "source": [
    "The values of the objective function (total square error in case of k-means) along iterations is stored in the variable kmeans.obj."
   ]
  },
  {
   "cell_type": "code",
   "execution_count": 13,
   "metadata": {},
   "outputs": [
    {
     "data": {
      "text/plain": [
       "array([804842.8 , 506015.06, 499761.9 , 497422.06, 496135.38, 495346.94,\n",
       "       494836.62, 494480.78, 494210.84, 494013.75, 493859.06, 493735.47,\n",
       "       493647.5 , 493568.6 , 493505.4 , 493452.9 , 493410.2 , 493369.8 ,\n",
       "       493339.38, 493312.94], dtype=float32)"
      ]
     },
     "execution_count": 13,
     "metadata": {},
     "output_type": "execute_result"
    }
   ],
   "source": [
    "kmeans.obj"
   ]
  },
  {
   "cell_type": "code",
   "execution_count": 14,
   "metadata": {},
   "outputs": [
    {
     "data": {
      "text/plain": [
       "20"
      ]
     },
     "execution_count": 14,
     "metadata": {},
     "output_type": "execute_result"
    }
   ],
   "source": [
    "len(kmeans.obj)"
   ]
  },
  {
   "cell_type": "markdown",
   "metadata": {},
   "source": [
    "### Assignment"
   ]
  },
  {
   "cell_type": "markdown",
   "metadata": {},
   "source": [
    "To compute the mapping from a set of vectors x to the cluster centroids after kmeans has finished training, use:"
   ]
  },
  {
   "cell_type": "code",
   "execution_count": 20,
   "metadata": {},
   "outputs": [
    {
     "name": "stdout",
     "output_type": "stream",
     "text": [
      "[[313]\n",
      " [ 51]\n",
      " [309]\n",
      " [ 51]\n",
      " [753]]\n"
     ]
    }
   ],
   "source": [
    "x=xq[:5]\n",
    "D, I = kmeans.index.search(x, 1)\n",
    "print(I)"
   ]
  },
  {
   "cell_type": "markdown",
   "metadata": {},
   "source": [
    "This will return the nearest centroid for each line vector in x in `I`. `D` contains the squared L2 distances."
   ]
  },
  {
   "cell_type": "markdown",
   "metadata": {},
   "source": [
    "For the reverse operation, eg. to find the 15 nearest points in x to the computed centroids, a new index must be used:"
   ]
  },
  {
   "cell_type": "code",
   "execution_count": 22,
   "metadata": {},
   "outputs": [
    {
     "name": "stdout",
     "output_type": "stream",
     "text": [
      "[[79083 78056 78305 ... 78937 79683 78890]\n",
      " [42086 41925 41587 ... 41972 42339 41297]\n",
      " [36808 36129 35861 ... 36321 36296 35554]\n",
      " ...\n",
      " [18369 18180 18085 ... 17047 17510 18735]\n",
      " [66867 67113 67147 ... 66796 66963 66965]\n",
      " [50521 50623 51618 ... 51415 50469 51024]]\n"
     ]
    }
   ],
   "source": [
    "index = faiss.IndexFlatL2(d)\n",
    "index.add(xb)\n",
    "D, I = index.search (kmeans.centroids, 15)\n",
    "print(I)"
   ]
  },
  {
   "cell_type": "markdown",
   "metadata": {},
   "source": [
    "I of size (ncentroids, 15) contains the nearest neighbors for each centroid."
   ]
  },
  {
   "cell_type": "markdown",
   "metadata": {},
   "source": [
    "### Clustering on the GPU\n",
    "Clustering on one or several GPUs requires to adapt the indexing object a bit."
   ]
  },
  {
   "cell_type": "markdown",
   "metadata": {},
   "source": [
    "# Computing a PCA"
   ]
  },
  {
   "cell_type": "markdown",
   "metadata": {},
   "source": [
    "让我们把 40D vectors 降到 10D."
   ]
  },
  {
   "cell_type": "code",
   "execution_count": 24,
   "metadata": {},
   "outputs": [
    {
     "name": "stdout",
     "output_type": "stream",
     "text": [
      "[116.01529  115.3129   108.345406 107.58896  105.79919  101.523346\n",
      " 100.9948    98.78388   98.579926  96.67803 ]\n"
     ]
    }
   ],
   "source": [
    "# random training data \n",
    "mt = np.random.rand(1000, 40).astype('float32')\n",
    "mat = faiss.PCAMatrix (40, 10)\n",
    "mat.train(mt)\n",
    "assert mat.is_trained\n",
    "tr = mat.apply_py(mt)\n",
    "# print this to show that the magnitude of tr's columns is decreasing\n",
    "print((tr ** 2).sum(0))"
   ]
  },
  {
   "cell_type": "markdown",
   "metadata": {},
   "source": [
    "Note that in C++, apply_py is replaced with apply (apply is a reserved word in Python)."
   ]
  },
  {
   "cell_type": "markdown",
   "metadata": {},
   "source": [
    "### PQ encoding / decoding\n",
    "The ProductQuantizer object can be used to encode or decode vectors to codes:"
   ]
  },
  {
   "cell_type": "code",
   "execution_count": 27,
   "metadata": {},
   "outputs": [],
   "source": [
    "d = 32  # data dimension\n",
    "cs = 4  # code size (bytes)\n",
    "\n",
    "# train set \n",
    "nt = 10000\n",
    "xt = np.random.rand(nt, d).astype('float32')\n",
    "\n",
    "# dataset to encode (could be same as train)\n",
    "n = 20000\n",
    "x = np.random.rand(n, d).astype('float32')\n",
    "\n",
    "pq = faiss.ProductQuantizer(d, cs, 8)\n",
    "pq.train(xt)\n",
    "\n",
    "# encode \n",
    "codes = pq.compute_codes(x)\n",
    "\n",
    "# decode\n",
    "x2 = pq.decode(codes)\n",
    "\n",
    "# compute reconstruction error\n",
    "avg_relative_error = ((x - x2)**2).sum() / (x ** 2).sum()"
   ]
  },
  {
   "cell_type": "markdown",
   "metadata": {},
   "source": [
    "A scalar quantizer works similarly:"
   ]
  },
  {
   "cell_type": "code",
   "execution_count": 28,
   "metadata": {},
   "outputs": [],
   "source": [
    "d = 32  # data dimension\n",
    "\n",
    "# train set \n",
    "nt = 10000\n",
    "xt = np.random.rand(nt, d).astype('float32')\n",
    "\n",
    "# dataset to encode (could be same as train)\n",
    "n = 20000\n",
    "x = np.random.rand(n, d).astype('float32')\n",
    "\n",
    "# QT_8bit allocates 8 bits per dimension (QT_4bit also works)\n",
    "sq = faiss.ScalarQuantizer(d, faiss.ScalarQuantizer.QT_8bit)\n",
    "sq.train(xt)\n",
    "\n",
    "# encode \n",
    "codes = sq.compute_codes(x)\n",
    "\n",
    "# decode\n",
    "x2 = sq.decode(codes)\n",
    "\n",
    "# compute reconstruction error\n",
    "avg_relative_error = ((x - x2)**2).sum() / (x ** 2).sum()"
   ]
  },
  {
   "cell_type": "code",
   "execution_count": null,
   "metadata": {},
   "outputs": [],
   "source": []
  }
 ],
 "metadata": {
  "kernelspec": {
   "display_name": "Python 3",
   "language": "python",
   "name": "python3"
  },
  "language_info": {
   "codemirror_mode": {
    "name": "ipython",
    "version": 3
   },
   "file_extension": ".py",
   "mimetype": "text/x-python",
   "name": "python",
   "nbconvert_exporter": "python",
   "pygments_lexer": "ipython3",
   "version": "3.7.5"
  }
 },
 "nbformat": 4,
 "nbformat_minor": 2
}

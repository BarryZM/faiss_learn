{
 "cells": [
  {
   "cell_type": "markdown",
   "metadata": {},
   "source": [
    "# 对比"
   ]
  },
  {
   "cell_type": "code",
   "execution_count": 1,
   "metadata": {},
   "outputs": [],
   "source": [
    "import numpy as np\n",
    "import faiss"
   ]
  },
  {
   "cell_type": "code",
   "execution_count": 12,
   "metadata": {},
   "outputs": [],
   "source": [
    "d = 64                            \n",
    "nb = 100000                         \n",
    "nq = 10000                          \n",
    "np.random.seed(1234)                \n",
    "xb = np.random.random((nb, d)).astype('float32')\n",
    "xb[:, 0] += np.arange(nb) / 1000.   \n",
    "xq = np.random.random((nq, d)).astype('float32')\n",
    "xq[:, 0] += np.arange(nq) / 1000."
   ]
  },
  {
   "cell_type": "markdown",
   "metadata": {},
   "source": [
    "## IndexFlatL2"
   ]
  },
  {
   "cell_type": "code",
   "execution_count": 18,
   "metadata": {},
   "outputs": [
    {
     "name": "stdout",
     "output_type": "stream",
     "text": [
      "[[ 381  207  210  477]\n",
      " [ 526  911  142   72]\n",
      " [ 838  527 1290  425]\n",
      " [ 196  184  164  359]\n",
      " [ 526  377  120  425]]\n",
      "[[ 9900 10500  9309  9831]\n",
      " [11055 10895 10812 11321]\n",
      " [11353 11103 10164  9787]\n",
      " [10571 10664 10632  9638]\n",
      " [ 9628  9554 10036  9582]]\n"
     ]
    }
   ],
   "source": [
    "index = faiss.IndexFlatL2(d)        \n",
    "\n",
    "assert index.is_trained\n",
    "index.add(xb)                       \n",
    "assert index.is_trained\n",
    "\n",
    "k = 4                               # k=4 k邻近搜索\n",
    "D, I = index.search(xq, k)          # 执行搜索\n",
    "print(I[:5])                        # 最初五次查询的结果\n",
    "print(I[-5:])                       # 最后五次查询的结果"
   ]
  },
  {
   "cell_type": "markdown",
   "metadata": {},
   "source": [
    "## IndexIVFFlat"
   ]
  },
  {
   "cell_type": "code",
   "execution_count": 14,
   "metadata": {},
   "outputs": [
    {
     "name": "stdout",
     "output_type": "stream",
     "text": [
      "[[ 381  207  210  477]\n",
      " [ 526  911  142   72]\n",
      " [ 838  527 1290  425]\n",
      " [ 196  184  164  359]\n",
      " [ 526  377  120  425]]\n",
      "[[ 9900  9309  9810 10048]\n",
      " [11055 10895 10812 11321]\n",
      " [11353 10164  9787 10719]\n",
      " [10571 10664 10632 10203]\n",
      " [ 9628  9554  9582 10304]]\n"
     ]
    }
   ],
   "source": [
    "nlist = 100\n",
    "k = 4\n",
    "quantizer = faiss.IndexFlatL2(d)  # the other index\n",
    "index = faiss.IndexIVFFlat(quantizer, d, nlist, faiss.METRIC_L2)\n",
    "# here we specify METRIC_L2, by default it performs inner-product search\n",
    "\n",
    "assert not index.is_trained\n",
    "index.train(xb)\n",
    "assert index.is_trained\n",
    "\n",
    "index.add(xb)                  # 添加索引可能会有一点慢\n",
    "D, I = index.search(xq, k)     # 搜索\n",
    "print(I[:5])                   # 最初五次查询的结果\n",
    "print(I[-5:])                  # 最后五次查询的结果"
   ]
  },
  {
   "cell_type": "markdown",
   "metadata": {},
   "source": [
    "## IndexIVFPQ"
   ]
  },
  {
   "cell_type": "code",
   "execution_count": 17,
   "metadata": {},
   "outputs": [
    {
     "name": "stdout",
     "output_type": "stream",
     "text": [
      "[[   0   78  608  159]\n",
      " [   1 1063  555  380]\n",
      " [   2  304  134   46]\n",
      " [   3   64  773  265]\n",
      " [   4  288  827  531]]\n",
      "[[1.6157436 6.1152253 6.4348025 6.564184 ]\n",
      " [1.389575  5.6771317 5.9956017 6.486294 ]\n",
      " [1.7025063 6.121688  6.189084  6.489888 ]\n",
      " [1.8057687 6.5440307 6.6684756 6.859398 ]\n",
      " [1.4920276 5.79976   6.190908  6.3791513]]\n",
      "[[ 399  210  329 1619]\n",
      " [1193   39  911  187]\n",
      " [1267  197  527  425]\n",
      " [ 184  599  466  359]\n",
      " [ 828  377  120  416]]\n",
      "[[ 9900  8746  9853 10437]\n",
      " [10494 10507 11373  9014]\n",
      " [10719 11291 10424 10138]\n",
      " [10122  9638 11113 10630]\n",
      " [ 9229 10304  9644 10370]]\n"
     ]
    }
   ],
   "source": [
    "nlist = 100\n",
    "m = 8\n",
    "k = 4\n",
    "quantizer = faiss.IndexFlatL2(d)    # 内部的索引方式依然不变\n",
    "index = faiss.IndexIVFPQ(quantizer, d, nlist, m, 8) # 每个向量都被编码为8个字节大小\n",
    "                                    \n",
    "index.train(xb)\n",
    "index.add(xb)\n",
    "D, I = index.search(xb[:5], k)      # 测试\n",
    "print(I)\n",
    "print(D)\n",
    "\n",
    "index.nprobe = 10                   # 与以前的方法相比\n",
    "D, I = index.search(xq, k)          \n",
    "print(I[:5])                        # 最初五次查询的结果\n",
    "print(I[-5:])                       # 最后五次查询的结果"
   ]
  },
  {
   "cell_type": "code",
   "execution_count": null,
   "metadata": {},
   "outputs": [],
   "source": []
  }
 ],
 "metadata": {
  "kernelspec": {
   "display_name": "Python 3",
   "language": "python",
   "name": "python3"
  },
  "language_info": {
   "codemirror_mode": {
    "name": "ipython",
    "version": 3
   },
   "file_extension": ".py",
   "mimetype": "text/x-python",
   "name": "python",
   "nbconvert_exporter": "python",
   "pygments_lexer": "ipython3",
   "version": "3.7.5"
  }
 },
 "nbformat": 4,
 "nbformat_minor": 2
}

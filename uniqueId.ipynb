{
 "cells": [
  {
   "cell_type": "markdown",
   "metadata": {},
   "source": [
    "# 为向量添加唯一ID"
   ]
  },
  {
   "cell_type": "markdown",
   "metadata": {},
   "source": [
    "一部分索引也可以存储对应于每个向量的整形ID（但IndexFlatL2不行）。\n",
    "\n",
    "如果没有提供ID，add则使用向量序号作为id，即。第一个向量是0，第二个是1......"
   ]
  },
  {
   "cell_type": "markdown",
   "metadata": {},
   "source": [
    "IndexFlatL2不支持`add_with_ids`方法，需要借助`IndexIDMap`进行映射，代码如下："
   ]
  },
  {
   "cell_type": "markdown",
   "metadata": {},
   "source": [
    "- 对于支持 add_with_ids() 方法的index"
   ]
  },
  {
   "cell_type": "markdown",
   "metadata": {},
   "source": [
    "ids = list[] ...\n",
    "ids = numpy.array(ids).astype('int')    # 转换成int型一维数组\n",
    "index.add_with_ids(data,ids)"
   ]
  },
  {
   "cell_type": "markdown",
   "metadata": {},
   "source": [
    "- 对于不支持 add_with_ids() 的 index 借助 IndexIDMap"
   ]
  },
  {
   "cell_type": "markdown",
   "metadata": {},
   "source": [
    "ids = np.arange(100000, 200000)  #id设定为6位数整数，默认id从0开始，这里我们将其设置从100000开始\n",
    "index2 = faiss.IndexIDMap(index)\n",
    "index2.add_with_ids(xb, ids)"
   ]
  },
  {
   "cell_type": "markdown",
   "metadata": {},
   "source": [
    "ids = list[] ...\n",
    "ids = numpy.array(ids).astype('int')    # 同上\n",
    "index = ...\n",
    "index2 = faiss.IndexIDMap（index）\n",
    "index2.add_with_ids(data, ids)\n",
    "D, I = index2.search(data[:50], k)      # 注意这里对索引的add 和 search\n",
    "                                        # 都需要调用index2 来进行操作\n",
    "                                        # 来获取向量正确的id "
   ]
  }
 ],
 "metadata": {
  "kernelspec": {
   "display_name": "Python 3",
   "language": "python",
   "name": "python3"
  },
  "language_info": {
   "codemirror_mode": {
    "name": "ipython",
    "version": 3
   },
   "file_extension": ".py",
   "mimetype": "text/x-python",
   "name": "python",
   "nbconvert_exporter": "python",
   "pygments_lexer": "ipython3",
   "version": "3.7.5"
  }
 },
 "nbformat": 4,
 "nbformat_minor": 2
}
